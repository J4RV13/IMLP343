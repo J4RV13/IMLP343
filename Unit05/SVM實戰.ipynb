{
 "cells": [
  {
   "cell_type": "markdown",
   "metadata": {},
   "source": [
    "# 乳癌資料庫預測SVM分類\n",
    ">使用scikit-learn 機器學習套件裡的SVR演算法\n",
    "\n",
    "* (一)引入函式庫及內建乳癌資料集<br>\n",
    "引入之函式庫如下<br>\n",
    "sklearn.datasets: 用來匯入內建之乳癌資料集`datasets.load_breast_cancer()`<br>\n",
    "sklearn.SVR: 支持向量機回歸分析之演算法<br>\n",
    "matplotlib.pyplot: 用來繪製影像"
   ]
  },
  {
   "cell_type": "code",
   "execution_count": 1,
   "metadata": {},
   "outputs": [],
   "source": [
    "from sklearn import svm\n",
    "from sklearn import datasets\n",
    "from sklearn.model_selection import train_test_split\n",
    "from sklearn.metrics import accuracy_score"
   ]
  },
  {
   "cell_type": "markdown",
   "metadata": {},
   "source": [
    "## Step1. 下載資料"
   ]
  },
  {
   "cell_type": "code",
   "execution_count": 2,
   "metadata": {},
   "outputs": [],
   "source": [
    "breast_cancer=datasets.load_breast_cancer()"
   ]
  },
  {
   "cell_type": "code",
   "execution_count": 3,
   "metadata": {},
   "outputs": [],
   "source": [
    "features=breast_cancer.data"
   ]
  },
  {
   "cell_type": "code",
   "execution_count": 4,
   "metadata": {},
   "outputs": [],
   "source": [
    "target=breast_cancer.target"
   ]
  },
  {
   "cell_type": "markdown",
   "metadata": {},
   "source": [
    "## Step2. 區分訓練集與測試集"
   ]
  },
  {
   "cell_type": "code",
   "execution_count": 14,
   "metadata": {},
   "outputs": [],
   "source": [
    "X_train, X_test, y_train, y_test = train_test_split(features, target, test_size=0.3, random_state=0)"
   ]
  },
  {
   "cell_type": "markdown",
   "metadata": {},
   "source": [
    "## Step3. 建模"
   ]
  },
  {
   "cell_type": "code",
   "execution_count": 15,
   "metadata": {},
   "outputs": [
    {
     "data": {
      "text/plain": [
       "SVC(C=1, kernel='linear')"
      ]
     },
     "execution_count": 15,
     "metadata": {},
     "output_type": "execute_result"
    }
   ],
   "source": [
    "clf=svm.SVC(kernel='linear', C=1)\n",
    "clf.fit(X_train,y_train)"
   ]
  },
  {
   "cell_type": "code",
   "execution_count": 19,
   "metadata": {},
   "outputs": [
    {
     "data": {
      "text/plain": [
       "SVC()"
      ]
     },
     "execution_count": 19,
     "metadata": {},
     "output_type": "execute_result"
    }
   ],
   "source": [
    "clf=svm.SVC(kernel='rbf')\n",
    "clf.fit(X_train,y_train)"
   ]
  },
  {
   "cell_type": "code",
   "execution_count": 23,
   "metadata": {},
   "outputs": [
    {
     "data": {
      "text/plain": [
       "SVC(kernel='sigmoid')"
      ]
     },
     "execution_count": 23,
     "metadata": {},
     "output_type": "execute_result"
    }
   ],
   "source": [
    "clf=svm.SVC(kernel='sigmoid')\n",
    "clf.fit(X_train,y_train)"
   ]
  },
  {
   "cell_type": "code",
   "execution_count": 27,
   "metadata": {},
   "outputs": [
    {
     "data": {
      "text/plain": [
       "SVC(kernel='poly')"
      ]
     },
     "execution_count": 27,
     "metadata": {},
     "output_type": "execute_result"
    }
   ],
   "source": [
    "clf=svm.SVC(kernel='poly')\n",
    "clf.fit(X_train,y_train)"
   ]
  },
  {
   "cell_type": "markdown",
   "metadata": {},
   "source": [
    "## Step4. 預測\n",
    "\n",
    "```\n",
    "\n",
    "```\n"
   ]
  },
  {
   "cell_type": "code",
   "execution_count": 28,
   "metadata": {},
   "outputs": [],
   "source": [
    "y_pred = clf.predict(X_test)"
   ]
  },
  {
   "cell_type": "markdown",
   "metadata": {},
   "source": [
    "## Step5. 準確度分析"
   ]
  },
  {
   "cell_type": "code",
   "execution_count": 29,
   "metadata": {},
   "outputs": [
    {
     "name": "stdout",
     "output_type": "stream",
     "text": [
      "0.907035175879397\n",
      "0.9181286549707602\n"
     ]
    }
   ],
   "source": [
    "print(clf.score(X_train,y_train))\n",
    "print(clf.score(X_test, y_test))"
   ]
  },
  {
   "cell_type": "code",
   "execution_count": 30,
   "metadata": {},
   "outputs": [
    {
     "name": "stdout",
     "output_type": "stream",
     "text": [
      "0.9181286549707602\n"
     ]
    }
   ],
   "source": [
    "print(accuracy_score(y_test, y_pred))"
   ]
  },
  {
   "cell_type": "code",
   "execution_count": 13,
   "metadata": {},
   "outputs": [
    {
     "name": "stdout",
     "output_type": "stream",
     "text": [
      "max_predict_train_random_state=674, max_predict_train=0.9849246231155779, max_predict_train_kernel=linear\n",
      "max_predict_test_random_state=265, max_predict_test=0.9883040935672515, max_predict_test_kernel=linear\n",
      "min_predict_train_random_state=170, min_predict_train=0.3944723618090452, min_predict_train_kernel=sigmoid\n",
      "min_predict_test_random_state=490, min_predict_test=0.3333333333333333, min_predict_test_kernel=sigmoid\n"
     ]
    }
   ],
   "source": [
    "# 自動調random_state跟kernel，並找出最好與最差預測的random_state+kernel\n",
    "max_predict_train = 0\n",
    "max_predict_test = 0\n",
    "min_predict_train = 1\n",
    "min_predict_test = 1\n",
    "kernel = ['linear', 'rbf', 'sigmoid', 'poly']\n",
    "\n",
    "for i in range(1000):\n",
    "    X_train, X_test, y_train, y_test = train_test_split(features, target, test_size=0.3, random_state=i)\n",
    "    for j in kernel:\n",
    "        clf=svm.SVC(kernel=j)\n",
    "        clf.fit(X_train,y_train)\n",
    "        clf.predict(X_test)\n",
    "        if max_predict_train < clf.score(X_train,y_train):\n",
    "            max_predict_train = clf.score(X_train,y_train)\n",
    "            max_predict_train_random_state = i\n",
    "            max_predict_train_kernel = j\n",
    "        if max_predict_test < clf.score(X_test,y_test):\n",
    "            max_predict_test = clf.score(X_test,y_test)\n",
    "            max_predict_test_random_state = i\n",
    "            max_predict_test_kernel = j\n",
    "        if min_predict_train > clf.score(X_train,y_train):\n",
    "            min_predict_train = clf.score(X_train,y_train)\n",
    "            min_predict_train_random_state = i\n",
    "            min_predict_train_kernel = j\n",
    "        if min_predict_test > clf.score(X_test,y_test):\n",
    "            min_predict_test = clf.score(X_test,y_test)\n",
    "            min_predict_test_random_state = i\n",
    "            min_predict_test_kernel = j\n",
    "print(\"max_predict_train_random_state={0}, max_predict_train={1}, max_predict_train_kernel={2}\".format(max_predict_train_random_state, max_predict_train, max_predict_train_kernel))\n",
    "print(\"max_predict_test_random_state={0}, max_predict_test={1}, max_predict_test_kernel={2}\".format(max_predict_test_random_state, max_predict_test, max_predict_test_kernel))\n",
    "print(\"min_predict_train_random_state={0}, min_predict_train={1}, min_predict_train_kernel={2}\".format(min_predict_train_random_state, min_predict_train, min_predict_train_kernel))\n",
    "print(\"min_predict_test_random_state={0}, min_predict_test={1}, min_predict_test_kernel={2}\".format(min_predict_test_random_state, min_predict_test, min_predict_test_kernel))"
   ]
  },
  {
   "cell_type": "code",
   "execution_count": null,
   "metadata": {},
   "outputs": [],
   "source": []
  }
 ],
 "metadata": {
  "kernelspec": {
   "display_name": "Python 3",
   "language": "python",
   "name": "python3"
  },
  "language_info": {
   "codemirror_mode": {
    "name": "ipython",
    "version": 3
   },
   "file_extension": ".py",
   "mimetype": "text/x-python",
   "name": "python",
   "nbconvert_exporter": "python",
   "pygments_lexer": "ipython3",
   "version": "3.8.11"
  }
 },
 "nbformat": 4,
 "nbformat_minor": 2
}
